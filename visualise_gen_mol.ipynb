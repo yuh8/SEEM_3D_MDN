{
 "cells": [
  {
   "cell_type": "code",
   "execution_count": 1,
   "metadata": {},
   "outputs": [],
   "source": [
    "from rdkit import Chem\n",
    "import pickle\n",
    "\n",
    "from ipywidgets import interact, fixed, IntSlider\n",
    "import ipywidgets\n",
    "import py3Dmol\n",
    "\n",
    "def show_mol(mol, view, grid):\n",
    "    mb = Chem.MolToMolBlock(mol)\n",
    "    view.removeAllModels(viewer=grid)\n",
    "    view.addModel(mb,'sdf', viewer=grid)\n",
    "    view.setStyle({'model':0},{'stick': {}}, viewer=grid)\n",
    "    view.zoomTo(viewer=grid)\n",
    "    return view\n",
    "\n",
    "def view_single(mol):\n",
    "    view = py3Dmol.view(width=600, height=600, linked=False, viewergrid=(1,1))\n",
    "    show_mol(mol, view, grid=(0, 0))\n",
    "    return view\n",
    "\n",
    "def MolTo3DView(mol, size=(600, 600), style=\"stick\", surface=False, opacity=0.5, confId=0):\n",
    "    \"\"\"Draw molecule in 3D\n",
    "    \n",
    "    Args:\n",
    "    ----\n",
    "        mol: rdMol, molecule to show\n",
    "        size: tuple(int, int), canvas size\n",
    "        style: str, type of drawing molecule\n",
    "               style can be 'line', 'stick', 'sphere', 'carton'\n",
    "        surface, bool, display SAS\n",
    "        opacity, float, opacity of surface, range 0.0-1.0\n",
    "    Return:\n",
    "    ----\n",
    "        viewer: py3Dmol.view, a class for constructing embedded 3Dmol.js views in ipython notebooks.\n",
    "    \"\"\"\n",
    "    assert style in ('line', 'stick', 'sphere', 'carton')\n",
    "    mblock = Chem.MolToMolBlock(mol[confId])\n",
    "    viewer = py3Dmol.view(width=size[0], height=size[1])\n",
    "    viewer.addModel(mblock, 'mol')\n",
    "    viewer.setStyle({style:{}})\n",
    "    if surface:\n",
    "        viewer.addSurface(py3Dmol.SAS, {'opacity': opacity})\n",
    "    viewer.zoomTo()\n",
    "    return viewer\n",
    "\n",
    "def conf_viewer(idx, mol):\n",
    "    return MolTo3DView(mol, confId=idx).show()"
   ]
  },
  {
   "cell_type": "code",
   "execution_count": 2,
   "metadata": {},
   "outputs": [
    {
     "ename": "TypeError",
     "evalue": "object of type 'Mol' has no len()",
     "output_type": "error",
     "traceback": [
      "\u001b[1;31m---------------------------------------------------------------------------\u001b[0m",
      "\u001b[1;31mTypeError\u001b[0m                                 Traceback (most recent call last)",
      "\u001b[1;32m~\\AppData\\Local\\Temp\\ipykernel_20560\\989562353.py\u001b[0m in \u001b[0;36m<module>\u001b[1;34m\u001b[0m\n\u001b[0;32m      2\u001b[0m     \u001b[0mpred_mols\u001b[0m \u001b[1;33m=\u001b[0m \u001b[0mpickle\u001b[0m\u001b[1;33m.\u001b[0m\u001b[0mload\u001b[0m\u001b[1;33m(\u001b[0m\u001b[0mf\u001b[0m\u001b[1;33m)\u001b[0m\u001b[1;33m\u001b[0m\u001b[1;33m\u001b[0m\u001b[0m\n\u001b[0;32m      3\u001b[0m \u001b[1;33m\u001b[0m\u001b[0m\n\u001b[1;32m----> 4\u001b[1;33m \u001b[0minteract\u001b[0m\u001b[1;33m(\u001b[0m\u001b[0mconf_viewer\u001b[0m\u001b[1;33m,\u001b[0m \u001b[0midx\u001b[0m\u001b[1;33m=\u001b[0m\u001b[0mipywidgets\u001b[0m\u001b[1;33m.\u001b[0m\u001b[0mIntSlider\u001b[0m\u001b[1;33m(\u001b[0m\u001b[0mmin\u001b[0m\u001b[1;33m=\u001b[0m\u001b[1;36m0\u001b[0m\u001b[1;33m,\u001b[0m \u001b[0mmax\u001b[0m\u001b[1;33m=\u001b[0m\u001b[0mlen\u001b[0m\u001b[1;33m(\u001b[0m\u001b[0mpred_mols\u001b[0m\u001b[1;33m)\u001b[0m\u001b[1;33m-\u001b[0m\u001b[1;36m1\u001b[0m\u001b[1;33m,\u001b[0m \u001b[0mstep\u001b[0m\u001b[1;33m=\u001b[0m\u001b[1;36m1\u001b[0m\u001b[1;33m)\u001b[0m\u001b[1;33m,\u001b[0m \u001b[0mmol\u001b[0m\u001b[1;33m=\u001b[0m\u001b[0mfixed\u001b[0m\u001b[1;33m(\u001b[0m\u001b[0mpred_mols\u001b[0m\u001b[1;33m)\u001b[0m\u001b[1;33m)\u001b[0m\u001b[1;33m\u001b[0m\u001b[1;33m\u001b[0m\u001b[0m\n\u001b[0m",
      "\u001b[1;31mTypeError\u001b[0m: object of type 'Mol' has no len()"
     ]
    }
   ],
   "source": [
    "with open('gen.pkl', 'rb') as f:\n",
    "    pred_mols = [pickle.load(f)]\n",
    "\n",
    "interact(conf_viewer, idx=ipywidgets.IntSlider(min=0, max=len(pred_mols)-1, step=1), mol=fixed(pred_mols))"
   ]
  },
  {
   "cell_type": "code",
   "execution_count": null,
   "metadata": {},
   "outputs": [],
   "source": []
  }
 ],
 "metadata": {
  "interpreter": {
   "hash": "f78a09054cb17b1e3fc98b57d606d4694ad456b54036ab32e8245f0a7b981aad"
  },
  "kernelspec": {
   "display_name": "Python 3.7.10 ('mol_com')",
   "language": "python",
   "name": "python3"
  },
  "language_info": {
   "codemirror_mode": {
    "name": "ipython",
    "version": 3
   },
   "file_extension": ".py",
   "mimetype": "text/x-python",
   "name": "python",
   "nbconvert_exporter": "python",
   "pygments_lexer": "ipython3",
   "version": "3.7.10"
  }
 },
 "nbformat": 4,
 "nbformat_minor": 2
}
